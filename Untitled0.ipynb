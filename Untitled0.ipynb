{
  "cells": [
    {
      "cell_type": "markdown",
      "metadata": {
        "id": "view-in-github",
        "colab_type": "text"
      },
      "source": [
        "<a href=\"https://colab.research.google.com/github/Fatimazahra13/Fatimazahra13/blob/main/Untitled0.ipynb\" target=\"_parent\"><img src=\"https://colab.research.google.com/assets/colab-badge.svg\" alt=\"Open In Colab\"/></a>"
      ]
    },
    {
      "cell_type": "markdown",
      "metadata": {
        "id": "K_Tol-00x8MR"
      },
      "source": []
    },
    {
      "cell_type": "code",
      "execution_count": null,
      "metadata": {
        "colab": {
          "base_uri": "https://localhost:8080/"
        },
        "id": "sHPa_Ctqx6cv",
        "outputId": "a29405c3-7c5b-4fc4-e3d0-6a358e7b9511"
      },
      "outputs": [
        {
          "name": "stdout",
          "output_type": "stream",
          "text": [
            "Hello World\n",
            "5\n",
            "We are learning Python\n"
          ]
        }
      ],
      "source": [
        "print(\"Hello World\")\n",
        "print(2+3)\n",
        "print(\"We are learning Python\")"
      ]
    },
    {
      "cell_type": "code",
      "execution_count": null,
      "metadata": {
        "colab": {
          "base_uri": "https://localhost:8080/"
        },
        "id": "8bFkkubZzXSQ",
        "outputId": "2fee9c9f-9f22-4ae8-9840-95d4a4dae621"
      },
      "outputs": [
        {
          "name": "stdout",
          "output_type": "stream",
          "text": [
            "apple banana melon grapes strawberry\n",
            "Is apple there in list?: True\n"
          ]
        }
      ],
      "source": [
        "fruits = ['apple','banana']\n",
        "fruits.insert(3,'melon')\n",
        "fruits.insert(4,'grapes')\n",
        "fruits.insert(5,'strawberry')\n",
        "print(*fruits)\n",
        "is_grapes_there= 'apple' in fruits\n",
        "print(\"Is apple there in list?:\",is_grapes_there)"
      ]
    },
    {
      "cell_type": "code",
      "execution_count": null,
      "metadata": {
        "colab": {
          "base_uri": "https://localhost:8080/"
        },
        "id": "EBfL_mzvzED5",
        "outputId": "c6c252d3-6c03-4000-e63e-e36c76f465ee"
      },
      "outputs": [
        {
          "name": "stdout",
          "output_type": "stream",
          "text": [
            "The maximum number in the list is: 60\n"
          ]
        }
      ],
      "source": [
        "list = [10,20,30,40,50,60]\n",
        "print(\"The maximum number in the list is:\",max(list))"
      ]
    },
    {
      "cell_type": "markdown",
      "metadata": {
        "id": "RmIPssJozu9y"
      },
      "source": []
    },
    {
      "cell_type": "markdown",
      "metadata": {
        "id": "UVelyKb1yj12"
      },
      "source": [
        "# This is my first jupyter notebook"
      ]
    },
    {
      "cell_type": "code",
      "execution_count": null,
      "metadata": {
        "colab": {
          "base_uri": "https://localhost:8080/"
        },
        "id": "jS5QuXZ2G00o",
        "outputId": "9018dbe6-e645-4252-8d1c-f93918fc0f0f"
      },
      "outputs": [
        {
          "name": "stdout",
          "output_type": "stream",
          "text": [
            "1\n",
            "2\n",
            "False\n"
          ]
        }
      ],
      "source": [
        "from collections import deque\n",
        "\n",
        "class Queue:\n",
        "    def __init__(self): # Corrected to __init__\n",
        "        self.items = []\n",
        "\n",
        "    def enque(self, item):\n",
        "        self.items.append(item)  # Use self.items to access the list\n",
        "\n",
        "    def deque(self):\n",
        "        if not self.is_empty():\n",
        "            return self.items.pop(0)\n",
        "        else:\n",
        "            return None\n",
        "\n",
        "    def peek(self):\n",
        "        if not self.is_empty():\n",
        "            return self.items[0]\n",
        "        else:\n",
        "            return None\n",
        "\n",
        "    def is_empty(self):  # Added self as argument\n",
        "        return len(self.items) == 0\n",
        "\n",
        "queue = Queue()\n",
        "queue.enque(1)  # Call enque instead of enqueue\n",
        "queue.enque(2)  # Call enque instead of enqueue\n",
        "queue.enque(3)  # Call enque instead of enqueue\n",
        "print(queue.deque())\n",
        "print(queue.peek())\n",
        "print(queue.is_empty())"
      ]
    },
    {
      "cell_type": "markdown",
      "metadata": {
        "id": "ll5aK1c95OoI"
      },
      "source": [
        "# **Starting pandas and numpy of innovista**"
      ]
    },
    {
      "cell_type": "code",
      "execution_count": null,
      "metadata": {
        "id": "markynot5YSC"
      },
      "outputs": [],
      "source": [
        "import pandas as pd\n",
        "import numpy as np"
      ]
    },
    {
      "cell_type": "code",
      "execution_count": null,
      "metadata": {
        "colab": {
          "base_uri": "https://localhost:8080/"
        },
        "id": "kK8ChMKI5p37",
        "outputId": "8e459e30-bd4d-4369-fc4f-5f69598469c5"
      },
      "outputs": [
        {
          "name": "stdout",
          "output_type": "stream",
          "text": [
            "0     2\n",
            "1     4\n",
            "2     6\n",
            "3     8\n",
            "4    10\n",
            "5    12\n",
            "6    14\n",
            "7    16\n",
            "8    18\n",
            "9    20\n",
            "dtype: int64\n"
          ]
        }
      ],
      "source": [
        "even_num = pd.Series([2,4,6,8,10,12,14,16,18,20])\n",
        "\n",
        "print(even_num)"
      ]
    },
    {
      "cell_type": "code",
      "execution_count": null,
      "metadata": {
        "colab": {
          "base_uri": "https://localhost:8080/"
        },
        "id": "vTwD9O1P-FcJ",
        "outputId": "99a9a8a2-9b6c-48f3-f72a-c90d223f5709"
      },
      "outputs": [
        {
          "name": "stdout",
          "output_type": "stream",
          "text": [
            "1000.0\n",
            "1500.0\n"
          ]
        }
      ],
      "source": [
        "# Encapsulation and data hiding\n",
        "class BankAccount:\n",
        "    def __init__(self, account_number, account_holder_name, initial_balance):\n",
        "        self.__account_number = account_number\n",
        "        self.__account_holder_name = account_holder_name\n",
        "        self.__account_balance = initial_balance\n",
        "    def get_balance(self):\n",
        "        return self.__account_balance\n",
        "\n",
        "    def deposit(self, amount):\n",
        "        self.__account_balance += amount\n",
        "account = BankAccount(\"123456789\", \"Fatima Zahra\", 1000.0)\n",
        "print(account.get_balance())\n",
        "account.deposit(500.0)\n",
        "print(account.get_balance())"
      ]
    },
    {
      "cell_type": "markdown",
      "metadata": {
        "id": "uzjkGknCWPW7"
      },
      "source": [
        "# **Creating data series using pandas**"
      ]
    },
    {
      "cell_type": "code",
      "execution_count": null,
      "metadata": {
        "id": "e1DZFC76-kIV"
      },
      "outputs": [],
      "source": [
        "import pandas as pd\n",
        "import numpy as np"
      ]
    },
    {
      "cell_type": "code",
      "execution_count": null,
      "metadata": {
        "colab": {
          "base_uri": "https://localhost:8080/",
          "height": 241
        },
        "id": "yq7vvE4Q-l40",
        "outputId": "e7e66598-dedb-4801-feda-d9e1662cd7d0"
      },
      "outputs": [
        {
          "data": {
            "text/html": [
              "<div>\n",
              "<style scoped>\n",
              "    .dataframe tbody tr th:only-of-type {\n",
              "        vertical-align: middle;\n",
              "    }\n",
              "\n",
              "    .dataframe tbody tr th {\n",
              "        vertical-align: top;\n",
              "    }\n",
              "\n",
              "    .dataframe thead th {\n",
              "        text-align: right;\n",
              "    }\n",
              "</style>\n",
              "<table border=\"1\" class=\"dataframe\">\n",
              "  <thead>\n",
              "    <tr style=\"text-align: right;\">\n",
              "      <th></th>\n",
              "      <th>0</th>\n",
              "    </tr>\n",
              "  </thead>\n",
              "  <tbody>\n",
              "    <tr>\n",
              "      <th>a</th>\n",
              "      <td>1</td>\n",
              "    </tr>\n",
              "    <tr>\n",
              "      <th>b</th>\n",
              "      <td>2</td>\n",
              "    </tr>\n",
              "    <tr>\n",
              "      <th>c</th>\n",
              "      <td>3</td>\n",
              "    </tr>\n",
              "    <tr>\n",
              "      <th>d</th>\n",
              "      <td>4</td>\n",
              "    </tr>\n",
              "    <tr>\n",
              "      <th>e</th>\n",
              "      <td>5</td>\n",
              "    </tr>\n",
              "  </tbody>\n",
              "</table>\n",
              "</div><br><label><b>dtype:</b> int64</label>"
            ],
            "text/plain": [
              "a    1\n",
              "b    2\n",
              "c    3\n",
              "d    4\n",
              "e    5\n",
              "dtype: int64"
            ]
          },
          "execution_count": 12,
          "metadata": {},
          "output_type": "execute_result"
        }
      ],
      "source": [
        "df = pd.Series([1,2,3,4,5], index=['a','b','c','d','e'])\n",
        "df"
      ]
    },
    {
      "cell_type": "code",
      "execution_count": null,
      "metadata": {
        "colab": {
          "base_uri": "https://localhost:8080/"
        },
        "id": "LGo3KABkUJD_",
        "outputId": "195e4126-d79c-4482-d96d-fe3631b35f9f"
      },
      "outputs": [
        {
          "output_type": "stream",
          "name": "stdout",
          "text": [
            "Describing:              Age\n",
            "count   3.000000\n",
            "mean   11.666667\n",
            "std     4.163332\n",
            "min     7.000000\n",
            "25%    10.000000\n",
            "50%    13.000000\n",
            "75%    14.000000\n",
            "max    15.000000\n"
          ]
        }
      ],
      "source": [
        "\n",
        "import pandas as pd\n",
        "data = {'Name':['Fatima','Nayab','Abdullah'], 'Age':[15,13,7]}\n",
        "df = pd.DataFrame(data)\n",
        "df\n",
        "print(\"Describing:\",df.describe())"
      ]
    },
    {
      "cell_type": "markdown",
      "metadata": {
        "id": "mpKRIsqCWjly"
      },
      "source": [
        "# **Using NumPy**"
      ]
    },
    {
      "cell_type": "code",
      "execution_count": null,
      "metadata": {
        "colab": {
          "base_uri": "https://localhost:8080/"
        },
        "id": "YgzHBBk3Wp4Q",
        "outputId": "e04a290e-0f6b-438d-9546-fd91a2cc318b"
      },
      "outputs": [
        {
          "name": "stdout",
          "output_type": "stream",
          "text": [
            "[20 30 40 50 60]\n",
            "[1. 2. 3. 4. 5.]\n",
            "[ 0 10 20 30 40]\n",
            "[100 200 300 400 500]\n"
          ]
        }
      ],
      "source": [
        "import numpy as np\n",
        "# Creating an Array\n",
        "arr = np.array([10,20,30,40,50])\n",
        "\n",
        "# Using Basic Operations\n",
        "print(arr+10)\n",
        "print(arr/10)\n",
        "print(arr-10)\n",
        "print(arr*10)"
      ]
    },
    {
      "cell_type": "code",
      "execution_count": null,
      "metadata": {
        "colab": {
          "base_uri": "https://localhost:8080/"
        },
        "id": "2AebZ-nbFTBd",
        "outputId": "937a1229-7ad6-427f-ea72-729517eb8899"
      },
      "outputs": [
        {
          "name": "stdout",
          "output_type": "stream",
          "text": [
            "Toyota Camry\n",
            "Engine started.\n",
            "Beep beep!\n",
            "Engine stopped.\n",
            "Harley-Davidson Sportster\n",
            "Engine started.\n",
            "Vroom vroom!\n",
            "Engine stopped.\n"
          ]
        }
      ],
      "source": [
        "# prompt: Creating class for vehicles\n",
        "\n",
        "class Vehicle:\n",
        "    def __init__(self, make, model, year, color):\n",
        "        self.make = make\n",
        "        self.model = model\n",
        "        self.year = year\n",
        "        self.color = color\n",
        "\n",
        "    def start_engine(self):\n",
        "        print(\"Engine started.\")\n",
        "\n",
        "    def stop_engine(self):\n",
        "        print(\"Engine stopped.\")\n",
        "\n",
        "\n",
        "class Car(Vehicle):\n",
        "    def __init__(self, make, model, year, color, num_doors):\n",
        "        super().__init__(make, model, year, color)\n",
        "        self.num_doors = num_doors\n",
        "\n",
        "    def honk(self):\n",
        "        print(\"Beep beep!\")\n",
        "\n",
        "\n",
        "class Motorcycle(Vehicle):\n",
        "    def __init__(self, make, model, year, color, has_sidecar):\n",
        "        super().__init__(make, model, year, color)\n",
        "        self.has_sidecar = has_sidecar\n",
        "\n",
        "    def rev_engine(self):\n",
        "        print(\"Vroom vroom!\")\n",
        "\n",
        "\n",
        "# Example usage\n",
        "my_car = Car(\"Toyota\", \"Camry\", 2023, \"Red\", 4)\n",
        "my_motorcycle = Motorcycle(\"Harley-Davidson\", \"Sportster\", 2022, \"Black\", False)\n",
        "\n",
        "print(my_car.make, my_car.model)\n",
        "my_car.start_engine()\n",
        "my_car.honk()\n",
        "my_car.stop_engine()\n",
        "\n",
        "print(my_motorcycle.make, my_motorcycle.model)\n",
        "my_motorcycle.start_engine()\n",
        "my_motorcycle.rev_engine()\n",
        "my_motorcycle.stop_engine()"
      ]
    },
    {
      "cell_type": "markdown",
      "metadata": {
        "id": "r_99JAhuF164"
      },
      "source": [
        "# **Creating class related to vehicles**"
      ]
    },
    {
      "cell_type": "code",
      "execution_count": null,
      "metadata": {
        "colab": {
          "background_save": true,
          "base_uri": "https://localhost:8080/"
        },
        "id": "XQ0vXvmvF1SV",
        "outputId": "e5a48bc3-5b12-422c-cb69-1005752796a4"
      },
      "outputs": [
        {
          "name": "stdout",
          "output_type": "stream",
          "text": [
            "This is 2024 Red Toyota Camry\n",
            "Honk Honk!\n",
            "This is 2017 Blue Honda CD-70\n",
            "Vroom Vroom!\n"
          ]
        }
      ],
      "source": [
        "class vehicle:\n",
        "    def __init__(self,make,model,colour,year):\n",
        "        self.make = make\n",
        "        self.model = model\n",
        "        self.colour = colour\n",
        "        self.year = year\n",
        "\n",
        "    def honk(self):\n",
        "        print(\"Honk Honk!\")\n",
        "    def vroom(self):\n",
        "        print(\"Vroom Vroom!\")\n",
        "    def description(self):\n",
        "        print(f\"This is\", self.year,self.colour,self.make,self.model)\n",
        "myCar= vehicle(\"Toyota\", \"Camry\", \"Red\", \"2024\")\n",
        "myCar.description()\n",
        "\n",
        "myCar.honk()\n",
        "\n",
        "myBike = vehicle(\"Honda\", \"CD-70\", \"Blue\", 2017)\n",
        "myBike.description()\n",
        "myBike.vroom()"
      ]
    },
    {
      "cell_type": "markdown",
      "metadata": {
        "id": "nhuwlFyaMdjz"
      },
      "source": [
        "# ***Creating Bank account class***"
      ]
    },
    {
      "cell_type": "code",
      "execution_count": null,
      "metadata": {
        "id": "ZfkfBcS2MdHA",
        "colab": {
          "base_uri": "https://localhost:8080/",
          "height": 560
        },
        "outputId": "da71a012-29ed-48e4-fe3f-000cafd58496"
      },
      "outputs": [
        {
          "output_type": "error",
          "ename": "TypeError",
          "evalue": "NDFrame.to_excel() missing 1 required positional argument: 'excel_writer'",
          "traceback": [
            "\u001b[0;31m---------------------------------------------------------------------------\u001b[0m",
            "\u001b[0;31mTypeError\u001b[0m                                 Traceback (most recent call last)",
            "\u001b[0;32m<ipython-input-3-8b06aec8170f>\u001b[0m in \u001b[0;36m<cell line: 5>\u001b[0;34m()\u001b[0m\n\u001b[1;32m      3\u001b[0m \u001b[0;32mimport\u001b[0m \u001b[0mnumpy\u001b[0m \u001b[0;32mas\u001b[0m \u001b[0mnp\u001b[0m\u001b[0;34m\u001b[0m\u001b[0;34m\u001b[0m\u001b[0m\n\u001b[1;32m      4\u001b[0m \u001b[0mdf\u001b[0m \u001b[0;34m=\u001b[0m \u001b[0mpd\u001b[0m\u001b[0;34m.\u001b[0m\u001b[0mSeries\u001b[0m\u001b[0;34m(\u001b[0m\u001b[0;34m[\u001b[0m\u001b[0;36m1\u001b[0m\u001b[0;34m,\u001b[0m\u001b[0;36m2\u001b[0m\u001b[0;34m,\u001b[0m\u001b[0;36m3\u001b[0m\u001b[0;34m,\u001b[0m\u001b[0;36m4\u001b[0m\u001b[0;34m,\u001b[0m\u001b[0;36m5\u001b[0m\u001b[0;34m]\u001b[0m\u001b[0;34m)\u001b[0m\u001b[0;34m\u001b[0m\u001b[0;34m\u001b[0m\u001b[0m\n\u001b[0;32m----> 5\u001b[0;31m \u001b[0mdf\u001b[0m\u001b[0;34m.\u001b[0m\u001b[0mto_excel\u001b[0m\u001b[0;34m(\u001b[0m\u001b[0;34m)\u001b[0m\u001b[0;34m\u001b[0m\u001b[0;34m\u001b[0m\u001b[0m\n\u001b[0m",
            "\u001b[0;32m/usr/local/lib/python3.10/dist-packages/pandas/util/_decorators.py\u001b[0m in \u001b[0;36mwrapper\u001b[0;34m(*args, **kwargs)\u001b[0m\n\u001b[1;32m    331\u001b[0m                     \u001b[0mstacklevel\u001b[0m\u001b[0;34m=\u001b[0m\u001b[0mfind_stack_level\u001b[0m\u001b[0;34m(\u001b[0m\u001b[0;34m)\u001b[0m\u001b[0;34m,\u001b[0m\u001b[0;34m\u001b[0m\u001b[0;34m\u001b[0m\u001b[0m\n\u001b[1;32m    332\u001b[0m                 )\n\u001b[0;32m--> 333\u001b[0;31m             \u001b[0;32mreturn\u001b[0m \u001b[0mfunc\u001b[0m\u001b[0;34m(\u001b[0m\u001b[0;34m*\u001b[0m\u001b[0margs\u001b[0m\u001b[0;34m,\u001b[0m \u001b[0;34m**\u001b[0m\u001b[0mkwargs\u001b[0m\u001b[0;34m)\u001b[0m\u001b[0;34m\u001b[0m\u001b[0;34m\u001b[0m\u001b[0m\n\u001b[0m\u001b[1;32m    334\u001b[0m \u001b[0;34m\u001b[0m\u001b[0m\n\u001b[1;32m    335\u001b[0m         \u001b[0;31m# error: \"Callable[[VarArg(Any), KwArg(Any)], Any]\" has no\u001b[0m\u001b[0;34m\u001b[0m\u001b[0;34m\u001b[0m\u001b[0m\n",
            "\u001b[0;31mTypeError\u001b[0m: NDFrame.to_excel() missing 1 required positional argument: 'excel_writer'"
          ]
        }
      ],
      "source": [
        "import openpyxl\n",
        "import pandas as pd\n",
        "import numpy as np\n",
        "df = pd.Series([1,2,3,4,5])\n",
        "df.to_excel()"
      ]
    },
    {
      "source": [
        "import openpyxl\n",
        "import pandas as pd\n",
        "import numpy as np\n",
        "\n",
        "# Create a Pandas Series\n",
        "df = pd.Series([1, 2, 3, 4, 5])\n",
        "\n",
        "# Export the Series to an Excel file using to_excel\n",
        "# Specify the file path and sheet name\n",
        "df.to_excel('output.xlsx', sheet_name='Sheet1')\n",
        "data = pd.read_excel('output.xlsx')\n",
        "data\n",
        "data.columns= ('col a','col b')\n",
        "data.describe()"
      ],
      "cell_type": "code",
      "metadata": {
        "colab": {
          "base_uri": "https://localhost:8080/",
          "height": 300
        },
        "id": "_u2-Mr2s4x4e",
        "outputId": "7b40e2f6-34d8-49b8-ecb0-21ecf77e1f08"
      },
      "execution_count": null,
      "outputs": [
        {
          "output_type": "execute_result",
          "data": {
            "text/plain": [
              "          col a     col b\n",
              "count  5.000000  5.000000\n",
              "mean   2.000000  3.000000\n",
              "std    1.581139  1.581139\n",
              "min    0.000000  1.000000\n",
              "25%    1.000000  2.000000\n",
              "50%    2.000000  3.000000\n",
              "75%    3.000000  4.000000\n",
              "max    4.000000  5.000000"
            ],
            "text/html": [
              "\n",
              "  <div id=\"df-c13033bb-9033-4589-b424-2c59f99ddf16\" class=\"colab-df-container\">\n",
              "    <div>\n",
              "<style scoped>\n",
              "    .dataframe tbody tr th:only-of-type {\n",
              "        vertical-align: middle;\n",
              "    }\n",
              "\n",
              "    .dataframe tbody tr th {\n",
              "        vertical-align: top;\n",
              "    }\n",
              "\n",
              "    .dataframe thead th {\n",
              "        text-align: right;\n",
              "    }\n",
              "</style>\n",
              "<table border=\"1\" class=\"dataframe\">\n",
              "  <thead>\n",
              "    <tr style=\"text-align: right;\">\n",
              "      <th></th>\n",
              "      <th>col a</th>\n",
              "      <th>col b</th>\n",
              "    </tr>\n",
              "  </thead>\n",
              "  <tbody>\n",
              "    <tr>\n",
              "      <th>count</th>\n",
              "      <td>5.000000</td>\n",
              "      <td>5.000000</td>\n",
              "    </tr>\n",
              "    <tr>\n",
              "      <th>mean</th>\n",
              "      <td>2.000000</td>\n",
              "      <td>3.000000</td>\n",
              "    </tr>\n",
              "    <tr>\n",
              "      <th>std</th>\n",
              "      <td>1.581139</td>\n",
              "      <td>1.581139</td>\n",
              "    </tr>\n",
              "    <tr>\n",
              "      <th>min</th>\n",
              "      <td>0.000000</td>\n",
              "      <td>1.000000</td>\n",
              "    </tr>\n",
              "    <tr>\n",
              "      <th>25%</th>\n",
              "      <td>1.000000</td>\n",
              "      <td>2.000000</td>\n",
              "    </tr>\n",
              "    <tr>\n",
              "      <th>50%</th>\n",
              "      <td>2.000000</td>\n",
              "      <td>3.000000</td>\n",
              "    </tr>\n",
              "    <tr>\n",
              "      <th>75%</th>\n",
              "      <td>3.000000</td>\n",
              "      <td>4.000000</td>\n",
              "    </tr>\n",
              "    <tr>\n",
              "      <th>max</th>\n",
              "      <td>4.000000</td>\n",
              "      <td>5.000000</td>\n",
              "    </tr>\n",
              "  </tbody>\n",
              "</table>\n",
              "</div>\n",
              "    <div class=\"colab-df-buttons\">\n",
              "\n",
              "  <div class=\"colab-df-container\">\n",
              "    <button class=\"colab-df-convert\" onclick=\"convertToInteractive('df-c13033bb-9033-4589-b424-2c59f99ddf16')\"\n",
              "            title=\"Convert this dataframe to an interactive table.\"\n",
              "            style=\"display:none;\">\n",
              "\n",
              "  <svg xmlns=\"http://www.w3.org/2000/svg\" height=\"24px\" viewBox=\"0 -960 960 960\">\n",
              "    <path d=\"M120-120v-720h720v720H120Zm60-500h600v-160H180v160Zm220 220h160v-160H400v160Zm0 220h160v-160H400v160ZM180-400h160v-160H180v160Zm440 0h160v-160H620v160ZM180-180h160v-160H180v160Zm440 0h160v-160H620v160Z\"/>\n",
              "  </svg>\n",
              "    </button>\n",
              "\n",
              "  <style>\n",
              "    .colab-df-container {\n",
              "      display:flex;\n",
              "      gap: 12px;\n",
              "    }\n",
              "\n",
              "    .colab-df-convert {\n",
              "      background-color: #E8F0FE;\n",
              "      border: none;\n",
              "      border-radius: 50%;\n",
              "      cursor: pointer;\n",
              "      display: none;\n",
              "      fill: #1967D2;\n",
              "      height: 32px;\n",
              "      padding: 0 0 0 0;\n",
              "      width: 32px;\n",
              "    }\n",
              "\n",
              "    .colab-df-convert:hover {\n",
              "      background-color: #E2EBFA;\n",
              "      box-shadow: 0px 1px 2px rgba(60, 64, 67, 0.3), 0px 1px 3px 1px rgba(60, 64, 67, 0.15);\n",
              "      fill: #174EA6;\n",
              "    }\n",
              "\n",
              "    .colab-df-buttons div {\n",
              "      margin-bottom: 4px;\n",
              "    }\n",
              "\n",
              "    [theme=dark] .colab-df-convert {\n",
              "      background-color: #3B4455;\n",
              "      fill: #D2E3FC;\n",
              "    }\n",
              "\n",
              "    [theme=dark] .colab-df-convert:hover {\n",
              "      background-color: #434B5C;\n",
              "      box-shadow: 0px 1px 3px 1px rgba(0, 0, 0, 0.15);\n",
              "      filter: drop-shadow(0px 1px 2px rgba(0, 0, 0, 0.3));\n",
              "      fill: #FFFFFF;\n",
              "    }\n",
              "  </style>\n",
              "\n",
              "    <script>\n",
              "      const buttonEl =\n",
              "        document.querySelector('#df-c13033bb-9033-4589-b424-2c59f99ddf16 button.colab-df-convert');\n",
              "      buttonEl.style.display =\n",
              "        google.colab.kernel.accessAllowed ? 'block' : 'none';\n",
              "\n",
              "      async function convertToInteractive(key) {\n",
              "        const element = document.querySelector('#df-c13033bb-9033-4589-b424-2c59f99ddf16');\n",
              "        const dataTable =\n",
              "          await google.colab.kernel.invokeFunction('convertToInteractive',\n",
              "                                                    [key], {});\n",
              "        if (!dataTable) return;\n",
              "\n",
              "        const docLinkHtml = 'Like what you see? Visit the ' +\n",
              "          '<a target=\"_blank\" href=https://colab.research.google.com/notebooks/data_table.ipynb>data table notebook</a>'\n",
              "          + ' to learn more about interactive tables.';\n",
              "        element.innerHTML = '';\n",
              "        dataTable['output_type'] = 'display_data';\n",
              "        await google.colab.output.renderOutput(dataTable, element);\n",
              "        const docLink = document.createElement('div');\n",
              "        docLink.innerHTML = docLinkHtml;\n",
              "        element.appendChild(docLink);\n",
              "      }\n",
              "    </script>\n",
              "  </div>\n",
              "\n",
              "\n",
              "<div id=\"df-19c3995a-476d-4a3d-8e2d-1625ac660a86\">\n",
              "  <button class=\"colab-df-quickchart\" onclick=\"quickchart('df-19c3995a-476d-4a3d-8e2d-1625ac660a86')\"\n",
              "            title=\"Suggest charts\"\n",
              "            style=\"display:none;\">\n",
              "\n",
              "<svg xmlns=\"http://www.w3.org/2000/svg\" height=\"24px\"viewBox=\"0 0 24 24\"\n",
              "     width=\"24px\">\n",
              "    <g>\n",
              "        <path d=\"M19 3H5c-1.1 0-2 .9-2 2v14c0 1.1.9 2 2 2h14c1.1 0 2-.9 2-2V5c0-1.1-.9-2-2-2zM9 17H7v-7h2v7zm4 0h-2V7h2v10zm4 0h-2v-4h2v4z\"/>\n",
              "    </g>\n",
              "</svg>\n",
              "  </button>\n",
              "\n",
              "<style>\n",
              "  .colab-df-quickchart {\n",
              "      --bg-color: #E8F0FE;\n",
              "      --fill-color: #1967D2;\n",
              "      --hover-bg-color: #E2EBFA;\n",
              "      --hover-fill-color: #174EA6;\n",
              "      --disabled-fill-color: #AAA;\n",
              "      --disabled-bg-color: #DDD;\n",
              "  }\n",
              "\n",
              "  [theme=dark] .colab-df-quickchart {\n",
              "      --bg-color: #3B4455;\n",
              "      --fill-color: #D2E3FC;\n",
              "      --hover-bg-color: #434B5C;\n",
              "      --hover-fill-color: #FFFFFF;\n",
              "      --disabled-bg-color: #3B4455;\n",
              "      --disabled-fill-color: #666;\n",
              "  }\n",
              "\n",
              "  .colab-df-quickchart {\n",
              "    background-color: var(--bg-color);\n",
              "    border: none;\n",
              "    border-radius: 50%;\n",
              "    cursor: pointer;\n",
              "    display: none;\n",
              "    fill: var(--fill-color);\n",
              "    height: 32px;\n",
              "    padding: 0;\n",
              "    width: 32px;\n",
              "  }\n",
              "\n",
              "  .colab-df-quickchart:hover {\n",
              "    background-color: var(--hover-bg-color);\n",
              "    box-shadow: 0 1px 2px rgba(60, 64, 67, 0.3), 0 1px 3px 1px rgba(60, 64, 67, 0.15);\n",
              "    fill: var(--button-hover-fill-color);\n",
              "  }\n",
              "\n",
              "  .colab-df-quickchart-complete:disabled,\n",
              "  .colab-df-quickchart-complete:disabled:hover {\n",
              "    background-color: var(--disabled-bg-color);\n",
              "    fill: var(--disabled-fill-color);\n",
              "    box-shadow: none;\n",
              "  }\n",
              "\n",
              "  .colab-df-spinner {\n",
              "    border: 2px solid var(--fill-color);\n",
              "    border-color: transparent;\n",
              "    border-bottom-color: var(--fill-color);\n",
              "    animation:\n",
              "      spin 1s steps(1) infinite;\n",
              "  }\n",
              "\n",
              "  @keyframes spin {\n",
              "    0% {\n",
              "      border-color: transparent;\n",
              "      border-bottom-color: var(--fill-color);\n",
              "      border-left-color: var(--fill-color);\n",
              "    }\n",
              "    20% {\n",
              "      border-color: transparent;\n",
              "      border-left-color: var(--fill-color);\n",
              "      border-top-color: var(--fill-color);\n",
              "    }\n",
              "    30% {\n",
              "      border-color: transparent;\n",
              "      border-left-color: var(--fill-color);\n",
              "      border-top-color: var(--fill-color);\n",
              "      border-right-color: var(--fill-color);\n",
              "    }\n",
              "    40% {\n",
              "      border-color: transparent;\n",
              "      border-right-color: var(--fill-color);\n",
              "      border-top-color: var(--fill-color);\n",
              "    }\n",
              "    60% {\n",
              "      border-color: transparent;\n",
              "      border-right-color: var(--fill-color);\n",
              "    }\n",
              "    80% {\n",
              "      border-color: transparent;\n",
              "      border-right-color: var(--fill-color);\n",
              "      border-bottom-color: var(--fill-color);\n",
              "    }\n",
              "    90% {\n",
              "      border-color: transparent;\n",
              "      border-bottom-color: var(--fill-color);\n",
              "    }\n",
              "  }\n",
              "</style>\n",
              "\n",
              "  <script>\n",
              "    async function quickchart(key) {\n",
              "      const quickchartButtonEl =\n",
              "        document.querySelector('#' + key + ' button');\n",
              "      quickchartButtonEl.disabled = true;  // To prevent multiple clicks.\n",
              "      quickchartButtonEl.classList.add('colab-df-spinner');\n",
              "      try {\n",
              "        const charts = await google.colab.kernel.invokeFunction(\n",
              "            'suggestCharts', [key], {});\n",
              "      } catch (error) {\n",
              "        console.error('Error during call to suggestCharts:', error);\n",
              "      }\n",
              "      quickchartButtonEl.classList.remove('colab-df-spinner');\n",
              "      quickchartButtonEl.classList.add('colab-df-quickchart-complete');\n",
              "    }\n",
              "    (() => {\n",
              "      let quickchartButtonEl =\n",
              "        document.querySelector('#df-19c3995a-476d-4a3d-8e2d-1625ac660a86 button');\n",
              "      quickchartButtonEl.style.display =\n",
              "        google.colab.kernel.accessAllowed ? 'block' : 'none';\n",
              "    })();\n",
              "  </script>\n",
              "</div>\n",
              "\n",
              "    </div>\n",
              "  </div>\n"
            ],
            "application/vnd.google.colaboratory.intrinsic+json": {
              "type": "dataframe",
              "summary": "{\n  \"name\": \"data\",\n  \"rows\": 8,\n  \"fields\": [\n    {\n      \"column\": \"col a\",\n      \"properties\": {\n        \"dtype\": \"number\",\n        \"std\": 1.6187587825307121,\n        \"min\": 0.0,\n        \"max\": 5.0,\n        \"num_unique_values\": 7,\n        \"samples\": [\n          5.0,\n          2.0,\n          3.0\n        ],\n        \"semantic_type\": \"\",\n        \"description\": \"\"\n      }\n    },\n    {\n      \"column\": \"col b\",\n      \"properties\": {\n        \"dtype\": \"number\",\n        \"std\": 1.5104848666672712,\n        \"min\": 1.0,\n        \"max\": 5.0,\n        \"num_unique_values\": 6,\n        \"samples\": [\n          5.0,\n          3.0,\n          4.0\n        ],\n        \"semantic_type\": \"\",\n        \"description\": \"\"\n      }\n    }\n  ]\n}"
            }
          },
          "metadata": {},
          "execution_count": 12
        }
      ]
    }
  ],
  "metadata": {
    "colab": {
      "provenance": [],
      "authorship_tag": "ABX9TyO9yIGD2k/bwrCsrvxCYrNc",
      "include_colab_link": true
    },
    "kernelspec": {
      "display_name": "Python 3",
      "name": "python3"
    },
    "language_info": {
      "name": "python"
    }
  },
  "nbformat": 4,
  "nbformat_minor": 0
}